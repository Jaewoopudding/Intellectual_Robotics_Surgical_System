{
  "cells": [
    {
      "cell_type": "markdown",
      "metadata": {
        "id": "go3ciME7YBGK"
      },
      "source": [
        "## Setup"
      ]
    },
    {
      "cell_type": "code",
      "execution_count": 1,
      "metadata": {
        "id": "Heuh89pNYBGP",
        "outputId": "15a092ad-5f63-4ad4-9879-ed0ab28f2d95",
        "colab": {
          "base_uri": "https://localhost:8080/"
        }
      },
      "outputs": [
        {
          "output_type": "stream",
          "name": "stdout",
          "text": [
            "Cloning into 'semantic-segmentation'...\n",
            "remote: Enumerating objects: 633, done.\u001b[K\n",
            "remote: Counting objects: 100% (633/633), done.\u001b[K\n",
            "remote: Compressing objects: 100% (427/427), done.\u001b[K\n",
            "remote: Total 633 (delta 380), reused 453 (delta 200), pack-reused 0\u001b[K\n",
            "Receiving objects: 100% (633/633), 53.83 MiB | 17.62 MiB/s, done.\n",
            "Resolving deltas: 100% (380/380), done.\n",
            "/content/semantic-segmentation\n",
            "Requirement already satisfied: tqdm in /usr/local/lib/python3.7/dist-packages (from -r requirements.txt (line 1)) (4.62.3)\n",
            "Requirement already satisfied: tabulate in /usr/local/lib/python3.7/dist-packages (from -r requirements.txt (line 2)) (0.8.9)\n",
            "Requirement already satisfied: numpy in /usr/local/lib/python3.7/dist-packages (from -r requirements.txt (line 3)) (1.19.5)\n",
            "Requirement already satisfied: scipy in /usr/local/lib/python3.7/dist-packages (from -r requirements.txt (line 4)) (1.4.1)\n",
            "Requirement already satisfied: matplotlib in /usr/local/lib/python3.7/dist-packages (from -r requirements.txt (line 5)) (3.2.2)\n",
            "Requirement already satisfied: tensorboard in /usr/local/lib/python3.7/dist-packages (from -r requirements.txt (line 6)) (2.7.0)\n",
            "Collecting fvcore\n",
            "  Downloading fvcore-0.1.5.post20220119.tar.gz (55 kB)\n",
            "\u001b[K     |████████████████████████████████| 55 kB 1.8 MB/s \n",
            "\u001b[?25hRequirement already satisfied: pyparsing!=2.0.4,!=2.1.2,!=2.1.6,>=2.0.1 in /usr/local/lib/python3.7/dist-packages (from matplotlib->-r requirements.txt (line 5)) (3.0.6)\n",
            "Requirement already satisfied: kiwisolver>=1.0.1 in /usr/local/lib/python3.7/dist-packages (from matplotlib->-r requirements.txt (line 5)) (1.3.2)\n",
            "Requirement already satisfied: cycler>=0.10 in /usr/local/lib/python3.7/dist-packages (from matplotlib->-r requirements.txt (line 5)) (0.11.0)\n",
            "Requirement already satisfied: python-dateutil>=2.1 in /usr/local/lib/python3.7/dist-packages (from matplotlib->-r requirements.txt (line 5)) (2.8.2)\n",
            "Requirement already satisfied: six>=1.5 in /usr/local/lib/python3.7/dist-packages (from python-dateutil>=2.1->matplotlib->-r requirements.txt (line 5)) (1.15.0)\n",
            "Requirement already satisfied: absl-py>=0.4 in /usr/local/lib/python3.7/dist-packages (from tensorboard->-r requirements.txt (line 6)) (0.12.0)\n",
            "Requirement already satisfied: google-auth-oauthlib<0.5,>=0.4.1 in /usr/local/lib/python3.7/dist-packages (from tensorboard->-r requirements.txt (line 6)) (0.4.6)\n",
            "Requirement already satisfied: setuptools>=41.0.0 in /usr/local/lib/python3.7/dist-packages (from tensorboard->-r requirements.txt (line 6)) (57.4.0)\n",
            "Requirement already satisfied: grpcio>=1.24.3 in /usr/local/lib/python3.7/dist-packages (from tensorboard->-r requirements.txt (line 6)) (1.43.0)\n",
            "Requirement already satisfied: werkzeug>=0.11.15 in /usr/local/lib/python3.7/dist-packages (from tensorboard->-r requirements.txt (line 6)) (1.0.1)\n",
            "Requirement already satisfied: protobuf>=3.6.0 in /usr/local/lib/python3.7/dist-packages (from tensorboard->-r requirements.txt (line 6)) (3.17.3)\n",
            "Requirement already satisfied: requests<3,>=2.21.0 in /usr/local/lib/python3.7/dist-packages (from tensorboard->-r requirements.txt (line 6)) (2.23.0)\n",
            "Requirement already satisfied: tensorboard-plugin-wit>=1.6.0 in /usr/local/lib/python3.7/dist-packages (from tensorboard->-r requirements.txt (line 6)) (1.8.1)\n",
            "Requirement already satisfied: wheel>=0.26 in /usr/local/lib/python3.7/dist-packages (from tensorboard->-r requirements.txt (line 6)) (0.37.1)\n",
            "Requirement already satisfied: tensorboard-data-server<0.7.0,>=0.6.0 in /usr/local/lib/python3.7/dist-packages (from tensorboard->-r requirements.txt (line 6)) (0.6.1)\n",
            "Requirement already satisfied: markdown>=2.6.8 in /usr/local/lib/python3.7/dist-packages (from tensorboard->-r requirements.txt (line 6)) (3.3.6)\n",
            "Requirement already satisfied: google-auth<3,>=1.6.3 in /usr/local/lib/python3.7/dist-packages (from tensorboard->-r requirements.txt (line 6)) (1.35.0)\n",
            "Requirement already satisfied: pyasn1-modules>=0.2.1 in /usr/local/lib/python3.7/dist-packages (from google-auth<3,>=1.6.3->tensorboard->-r requirements.txt (line 6)) (0.2.8)\n",
            "Requirement already satisfied: rsa<5,>=3.1.4 in /usr/local/lib/python3.7/dist-packages (from google-auth<3,>=1.6.3->tensorboard->-r requirements.txt (line 6)) (4.8)\n",
            "Requirement already satisfied: cachetools<5.0,>=2.0.0 in /usr/local/lib/python3.7/dist-packages (from google-auth<3,>=1.6.3->tensorboard->-r requirements.txt (line 6)) (4.2.4)\n",
            "Requirement already satisfied: requests-oauthlib>=0.7.0 in /usr/local/lib/python3.7/dist-packages (from google-auth-oauthlib<0.5,>=0.4.1->tensorboard->-r requirements.txt (line 6)) (1.3.0)\n",
            "Requirement already satisfied: importlib-metadata>=4.4 in /usr/local/lib/python3.7/dist-packages (from markdown>=2.6.8->tensorboard->-r requirements.txt (line 6)) (4.10.0)\n",
            "Requirement already satisfied: zipp>=0.5 in /usr/local/lib/python3.7/dist-packages (from importlib-metadata>=4.4->markdown>=2.6.8->tensorboard->-r requirements.txt (line 6)) (3.7.0)\n",
            "Requirement already satisfied: typing-extensions>=3.6.4 in /usr/local/lib/python3.7/dist-packages (from importlib-metadata>=4.4->markdown>=2.6.8->tensorboard->-r requirements.txt (line 6)) (3.10.0.2)\n",
            "Requirement already satisfied: pyasn1<0.5.0,>=0.4.6 in /usr/local/lib/python3.7/dist-packages (from pyasn1-modules>=0.2.1->google-auth<3,>=1.6.3->tensorboard->-r requirements.txt (line 6)) (0.4.8)\n",
            "Requirement already satisfied: idna<3,>=2.5 in /usr/local/lib/python3.7/dist-packages (from requests<3,>=2.21.0->tensorboard->-r requirements.txt (line 6)) (2.10)\n",
            "Requirement already satisfied: certifi>=2017.4.17 in /usr/local/lib/python3.7/dist-packages (from requests<3,>=2.21.0->tensorboard->-r requirements.txt (line 6)) (2021.10.8)\n",
            "Requirement already satisfied: chardet<4,>=3.0.2 in /usr/local/lib/python3.7/dist-packages (from requests<3,>=2.21.0->tensorboard->-r requirements.txt (line 6)) (3.0.4)\n",
            "Requirement already satisfied: urllib3!=1.25.0,!=1.25.1,<1.26,>=1.21.1 in /usr/local/lib/python3.7/dist-packages (from requests<3,>=2.21.0->tensorboard->-r requirements.txt (line 6)) (1.24.3)\n",
            "Requirement already satisfied: oauthlib>=3.0.0 in /usr/local/lib/python3.7/dist-packages (from requests-oauthlib>=0.7.0->google-auth-oauthlib<0.5,>=0.4.1->tensorboard->-r requirements.txt (line 6)) (3.1.1)\n",
            "Collecting yacs>=0.1.6\n",
            "  Downloading yacs-0.1.8-py3-none-any.whl (14 kB)\n",
            "Collecting pyyaml>=5.1\n",
            "  Downloading PyYAML-6.0-cp37-cp37m-manylinux_2_5_x86_64.manylinux1_x86_64.manylinux_2_12_x86_64.manylinux2010_x86_64.whl (596 kB)\n",
            "\u001b[K     |████████████████████████████████| 596 kB 11.0 MB/s \n",
            "\u001b[?25hRequirement already satisfied: termcolor>=1.1 in /usr/local/lib/python3.7/dist-packages (from fvcore->-r requirements.txt (line 7)) (1.1.0)\n",
            "Requirement already satisfied: Pillow in /usr/local/lib/python3.7/dist-packages (from fvcore->-r requirements.txt (line 7)) (7.1.2)\n",
            "Collecting iopath>=0.1.7\n",
            "  Downloading iopath-0.1.9-py3-none-any.whl (27 kB)\n",
            "Collecting portalocker\n",
            "  Downloading portalocker-2.3.2-py2.py3-none-any.whl (15 kB)\n",
            "Building wheels for collected packages: fvcore\n",
            "  Building wheel for fvcore (setup.py) ... \u001b[?25l\u001b[?25hdone\n",
            "  Created wheel for fvcore: filename=fvcore-0.1.5.post20220119-py3-none-any.whl size=65267 sha256=3d5c0d61128c48f2af3864d696b8430cbd94112a3c1c5c51ca01e34b494ec07b\n",
            "  Stored in directory: /root/.cache/pip/wheels/f3/b8/eb/61ed840f80d7198725bc061872b6019a7b3e9db4dbadf68083\n",
            "Successfully built fvcore\n",
            "Installing collected packages: pyyaml, portalocker, yacs, iopath, fvcore\n",
            "  Attempting uninstall: pyyaml\n",
            "    Found existing installation: PyYAML 3.13\n",
            "    Uninstalling PyYAML-3.13:\n",
            "      Successfully uninstalled PyYAML-3.13\n",
            "Successfully installed fvcore-0.1.5.post20220119 iopath-0.1.9 portalocker-2.3.2 pyyaml-6.0 yacs-0.1.8\n"
          ]
        }
      ],
      "source": [
        "!git clone https://github.com/sithu31296/semantic-segmentation\n",
        "%cd semantic-segmentation\n",
        "%pip install -r requirements.txt"
      ]
    },
    {
      "cell_type": "code",
      "execution_count": null,
      "metadata": {
        "id": "5hGw9-PbYBGQ"
      },
      "outputs": [],
      "source": [
        "import torch\n",
        "from torchvision import io\n",
        "from torchvision import transforms as T\n",
        "from PIL import Image\n",
        "\n",
        "def show_image(image):\n",
        "    if image.shape[2] != 3: image = image.permute(1, 2, 0)\n",
        "    image = Image.fromarray(image.numpy())\n",
        "    return image"
      ]
    },
    {
      "cell_type": "markdown",
      "metadata": {
        "id": "SkhQaSd4YBGR"
      },
      "source": [
        "## Show Available Pretrained Models"
      ]
    },
    {
      "cell_type": "code",
      "execution_count": null,
      "metadata": {
        "id": "uB8C413UYBGR"
      },
      "outputs": [],
      "source": [
        "from semseg import show_models\n",
        "\n",
        "show_models()"
      ]
    },
    {
      "cell_type": "markdown",
      "metadata": {
        "id": "bPTKeibEYBGR"
      },
      "source": [
        "## Load a Pretrained Model\n",
        "\n",
        "Download a pretrained model's weights from the result table (ADE20K, CityScapes, ...) and put it in `checkpoints/pretrained/model_name/`."
      ]
    },
    {
      "cell_type": "code",
      "execution_count": null,
      "metadata": {
        "id": "H8uGu-OmYBGS"
      },
      "outputs": [],
      "source": [
        "%pip install gdown"
      ]
    },
    {
      "cell_type": "code",
      "execution_count": null,
      "metadata": {
        "id": "mCvr5fjtYBGT"
      },
      "outputs": [],
      "source": [
        "import gdown\n",
        "from pathlib import Path\n",
        "\n",
        "ckpt = Path('./checkpoints/pretrained/segformer')\n",
        "ckpt.mkdir(exist_ok=True, parents=True)\n",
        "\n",
        "url = 'https://drive.google.com/uc?id=1-OmW3xRD3WAbJTzktPC-VMOF5WMsN8XT'\n",
        "output = './checkpoints/pretrained/segformer/segformer.b3.ade.pth'\n",
        "\n",
        "gdown.download(url, output, quiet=False)"
      ]
    },
    {
      "cell_type": "code",
      "execution_count": null,
      "metadata": {
        "id": "pLr2q23bYBGT"
      },
      "outputs": [],
      "source": [
        "from semseg.models import *\n",
        "\n",
        "model = eval('SegFormer')(\n",
        "    backbone='MiT-B3',\n",
        "    num_classes=150\n",
        ")\n",
        "\n",
        "try:\n",
        "    model.load_state_dict(torch.load('checkpoints/pretrained/segformer/segformer.b3.ade.pth', map_location='cpu'))\n",
        "except:\n",
        "    print(\"Download a pretrained model's weights from the result table.\")\n",
        "model.eval()\n",
        "\n",
        "print('Loaded Model')"
      ]
    },
    {
      "cell_type": "markdown",
      "metadata": {
        "id": "bZUtlWIyYBGU"
      },
      "source": [
        "## Simple Image Inference\n",
        "\n",
        "### Load Image"
      ]
    },
    {
      "cell_type": "code",
      "execution_count": null,
      "metadata": {
        "id": "OE7cajPGYBGV"
      },
      "outputs": [],
      "source": [
        "image_path = 'assests/ade/ADE_val_00000049.jpg'\n",
        "image = io.read_image(image_path)\n",
        "print(image.shape)\n",
        "show_image(image)"
      ]
    },
    {
      "cell_type": "markdown",
      "metadata": {
        "id": "gESDBKbfYBGV"
      },
      "source": [
        "### Preprocess"
      ]
    },
    {
      "cell_type": "code",
      "execution_count": null,
      "metadata": {
        "id": "Hs5qm-0dYBGW"
      },
      "outputs": [],
      "source": [
        "# resize\n",
        "image = T.CenterCrop((512, 512))(image)\n",
        "# scale to [0.0, 1.0]\n",
        "image = image.float() / 255\n",
        "# normalize\n",
        "image = T.Normalize((0.485, 0.456, 0.406), (0.229, 0.224, 0.225))(image)\n",
        "# add batch size\n",
        "image = image.unsqueeze(0)\n",
        "image.shape"
      ]
    },
    {
      "cell_type": "markdown",
      "metadata": {
        "id": "6gww8LJZYBGW"
      },
      "source": [
        "### Model Forward"
      ]
    },
    {
      "cell_type": "code",
      "execution_count": null,
      "metadata": {
        "id": "XuXSMRMuYBGX"
      },
      "outputs": [],
      "source": [
        "with torch.no_grad():\n",
        "    seg = model(image)\n",
        "seg.shape"
      ]
    },
    {
      "cell_type": "markdown",
      "metadata": {
        "id": "hPR3K7PnYBGX"
      },
      "source": [
        "### Postprocess"
      ]
    },
    {
      "cell_type": "code",
      "execution_count": null,
      "metadata": {
        "id": "3w8RR6r8YBGX"
      },
      "outputs": [],
      "source": [
        "seg = seg.softmax(1).argmax(1).to(int)\n",
        "seg.unique()"
      ]
    },
    {
      "cell_type": "code",
      "execution_count": null,
      "metadata": {
        "id": "UcGrJCvYYBGX"
      },
      "outputs": [],
      "source": [
        "from semseg.datasets import *\n",
        "\n",
        "palette = eval('ADE20K').PALETTE"
      ]
    },
    {
      "cell_type": "code",
      "execution_count": null,
      "metadata": {
        "id": "rJjKSSttYBGY"
      },
      "outputs": [],
      "source": [
        "seg_map = palette[seg].squeeze().to(torch.uint8)\n",
        "show_image(seg_map)"
      ]
    },
    {
      "cell_type": "markdown",
      "metadata": {
        "id": "36JC3PamYBGY"
      },
      "source": [
        "## Show Available Backbones"
      ]
    },
    {
      "cell_type": "code",
      "execution_count": null,
      "metadata": {
        "id": "ZFY6zf0JYBGY"
      },
      "outputs": [],
      "source": [
        "from semseg import show_backbones\n",
        "\n",
        "show_backbones()"
      ]
    },
    {
      "cell_type": "markdown",
      "metadata": {
        "id": "IDRprlW6YBGY"
      },
      "source": [
        "## Show Available Heads"
      ]
    },
    {
      "cell_type": "code",
      "execution_count": null,
      "metadata": {
        "id": "PFBGshH7YBGY"
      },
      "outputs": [],
      "source": [
        "from semseg import show_heads\n",
        "\n",
        "show_heads()"
      ]
    },
    {
      "cell_type": "markdown",
      "metadata": {
        "id": "p_Drcy-PYBGZ"
      },
      "source": [
        "## Show Available Datasets"
      ]
    },
    {
      "cell_type": "code",
      "execution_count": null,
      "metadata": {
        "id": "6lcLVagKYBGZ"
      },
      "outputs": [],
      "source": [
        "from semseg import show_datasets\n",
        "\n",
        "show_datasets()"
      ]
    },
    {
      "cell_type": "markdown",
      "metadata": {
        "id": "NkapqujuYBGZ"
      },
      "source": [
        "## Construct a Custom Model\n",
        "\n",
        "### Choose a Backbone"
      ]
    },
    {
      "cell_type": "code",
      "execution_count": null,
      "metadata": {
        "id": "GSeeJMmCYBGZ"
      },
      "outputs": [],
      "source": [
        "from semseg.models.backbones import ResNet\n",
        "\n",
        "backbone = ResNet('18')"
      ]
    },
    {
      "cell_type": "code",
      "execution_count": null,
      "metadata": {
        "id": "kjgKIbTDYBGZ"
      },
      "outputs": [],
      "source": [
        "# init random input batch\n",
        "x = torch.randn(2, 3, 224, 224)"
      ]
    },
    {
      "cell_type": "code",
      "execution_count": null,
      "metadata": {
        "id": "OVfGF-iVYBGa"
      },
      "outputs": [],
      "source": [
        "# get features from the backbone\n",
        "features = backbone(x)\n",
        "for out in features:\n",
        "    print(out.shape)"
      ]
    },
    {
      "cell_type": "markdown",
      "metadata": {
        "id": "Zv44bR_GYBGa"
      },
      "source": [
        "### Choose a Head"
      ]
    },
    {
      "cell_type": "code",
      "execution_count": null,
      "metadata": {
        "id": "v1WoOvhkYBGa"
      },
      "outputs": [],
      "source": [
        "from semseg.models.heads import UPerHead\n",
        "\n",
        "head = UPerHead(backbone.channels, 128, num_classes=10)"
      ]
    },
    {
      "cell_type": "code",
      "execution_count": null,
      "metadata": {
        "id": "sDm8LQqGYBGa"
      },
      "outputs": [],
      "source": [
        "seg = head(features)\n",
        "seg.shape"
      ]
    },
    {
      "cell_type": "code",
      "execution_count": null,
      "metadata": {
        "id": "_1GmQaiJYBGa"
      },
      "outputs": [],
      "source": [
        "from torch.nn import functional as F\n",
        "# upsample the output\n",
        "seg = F.interpolate(seg, size=x.shape[-2:], mode='bilinear', align_corners=False)\n",
        "seg.shape"
      ]
    },
    {
      "cell_type": "markdown",
      "metadata": {
        "id": "BAxzd4M-YBGa"
      },
      "source": [
        "Check `semseg/models/custom_cnn.py` and `semseg/models/custom_vit.py` for a complete construction for custom model."
      ]
    },
    {
      "cell_type": "code",
      "execution_count": null,
      "metadata": {
        "id": "8z50QVGiYBGb"
      },
      "outputs": [],
      "source": [
        ""
      ]
    }
  ],
  "metadata": {
    "interpreter": {
      "hash": "31f2aee4e71d21fbe5cf8b01ff0e069b9275f58929596ceb00d14d90e3e16cd6"
    },
    "kernelspec": {
      "display_name": "Python 3.6.9 64-bit",
      "name": "python3"
    },
    "language_info": {
      "codemirror_mode": {
        "name": "ipython",
        "version": 3
      },
      "file_extension": ".py",
      "mimetype": "text/x-python",
      "name": "python",
      "nbconvert_exporter": "python",
      "pygments_lexer": "ipython3",
      "version": "3.6.9"
    },
    "colab": {
      "name": "tutorial.ipynb",
      "provenance": []
    }
  },
  "nbformat": 4,
  "nbformat_minor": 0
}